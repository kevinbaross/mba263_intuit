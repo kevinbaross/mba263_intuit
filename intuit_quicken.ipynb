{
 "cells": [
  {
   "cell_type": "markdown",
   "id": "d26bc477-3be9-4906-9b47-98b651468158",
   "metadata": {},
   "source": [
    "#### Quicken Quickbooks Upgrade Assignment\n",
    "\n",
    "The purpose of this exercise is to provide you with the opportunity to try your hand at modeling the response to an upsell campaign. The \"intuit.csv\" file contains data on 20,000 individuals who were selected at random from the 801,821 who were sent the wave-one mailing. Variable \"res1\" denotes which of these individuals responded to the mailing. The remaining variables are available to help you predict who will respond to a wave-two mailing.\n",
    "\n",
    "I have simplified, added, and deleted some of the variables listed in Exhibit 3 of the case."
   ]
  },
  {
   "cell_type": "markdown",
   "id": "7f0b3e61-40b2-4cc9-9742-3a6156771f58",
   "metadata": {},
   "source": [
    "---\n",
    "\n",
    "#### Import Libraries and Data Preparation"
   ]
  },
  {
   "cell_type": "code",
   "execution_count": 1,
   "id": "94a281c2-4856-4060-a34c-ebd3ae41648e",
   "metadata": {},
   "outputs": [],
   "source": [
    "import pandas as pd\n",
    "import mba263\n",
    "import numpy\n",
    "import matplotlib.pyplot as plt"
   ]
  },
  {
   "cell_type": "code",
   "execution_count": 2,
   "id": "26df4b1c-44f4-4677-9adf-422ae49c2f31",
   "metadata": {},
   "outputs": [],
   "source": [
    "data = pd.read_csv('intuit.csv')"
   ]
  },
  {
   "cell_type": "code",
   "execution_count": 3,
   "id": "dd5ff6ef-cead-41ed-bedc-1c3ebba4fdba",
   "metadata": {},
   "outputs": [
    {
     "data": {
      "text/html": [
       "<div>\n",
       "<style scoped>\n",
       "    .dataframe tbody tr th:only-of-type {\n",
       "        vertical-align: middle;\n",
       "    }\n",
       "\n",
       "    .dataframe tbody tr th {\n",
       "        vertical-align: top;\n",
       "    }\n",
       "\n",
       "    .dataframe thead th {\n",
       "        text-align: right;\n",
       "    }\n",
       "</style>\n",
       "<table border=\"1\" class=\"dataframe\">\n",
       "  <thead>\n",
       "    <tr style=\"text-align: right;\">\n",
       "      <th></th>\n",
       "      <th>id</th>\n",
       "      <th>sex</th>\n",
       "      <th>bizflag</th>\n",
       "      <th>zip</th>\n",
       "      <th>zip_bins</th>\n",
       "      <th>numords</th>\n",
       "      <th>dollars</th>\n",
       "      <th>last</th>\n",
       "      <th>sincepurch</th>\n",
       "      <th>version1</th>\n",
       "      <th>owntaxprod</th>\n",
       "      <th>upgraded</th>\n",
       "      <th>res1</th>\n",
       "    </tr>\n",
       "  </thead>\n",
       "  <tbody>\n",
       "    <tr>\n",
       "      <th>0</th>\n",
       "      <td>1</td>\n",
       "      <td>U</td>\n",
       "      <td>1</td>\n",
       "      <td>99999</td>\n",
       "      <td>20</td>\n",
       "      <td>1</td>\n",
       "      <td>129.5</td>\n",
       "      <td>11</td>\n",
       "      <td>1</td>\n",
       "      <td>0</td>\n",
       "      <td>0</td>\n",
       "      <td>0</td>\n",
       "      <td>0</td>\n",
       "    </tr>\n",
       "    <tr>\n",
       "      <th>1</th>\n",
       "      <td>2</td>\n",
       "      <td>U</td>\n",
       "      <td>1</td>\n",
       "      <td>99999</td>\n",
       "      <td>20</td>\n",
       "      <td>2</td>\n",
       "      <td>65.0</td>\n",
       "      <td>4</td>\n",
       "      <td>14</td>\n",
       "      <td>0</td>\n",
       "      <td>0</td>\n",
       "      <td>0</td>\n",
       "      <td>0</td>\n",
       "    </tr>\n",
       "    <tr>\n",
       "      <th>2</th>\n",
       "      <td>3</td>\n",
       "      <td>U</td>\n",
       "      <td>1</td>\n",
       "      <td>99999</td>\n",
       "      <td>20</td>\n",
       "      <td>1</td>\n",
       "      <td>24.5</td>\n",
       "      <td>13</td>\n",
       "      <td>36</td>\n",
       "      <td>1</td>\n",
       "      <td>0</td>\n",
       "      <td>0</td>\n",
       "      <td>0</td>\n",
       "    </tr>\n",
       "    <tr>\n",
       "      <th>3</th>\n",
       "      <td>4</td>\n",
       "      <td>U</td>\n",
       "      <td>1</td>\n",
       "      <td>99999</td>\n",
       "      <td>20</td>\n",
       "      <td>1</td>\n",
       "      <td>80.5</td>\n",
       "      <td>5</td>\n",
       "      <td>19</td>\n",
       "      <td>1</td>\n",
       "      <td>0</td>\n",
       "      <td>0</td>\n",
       "      <td>0</td>\n",
       "    </tr>\n",
       "    <tr>\n",
       "      <th>4</th>\n",
       "      <td>5</td>\n",
       "      <td>U</td>\n",
       "      <td>1</td>\n",
       "      <td>99999</td>\n",
       "      <td>20</td>\n",
       "      <td>1</td>\n",
       "      <td>111.0</td>\n",
       "      <td>14</td>\n",
       "      <td>7</td>\n",
       "      <td>0</td>\n",
       "      <td>0</td>\n",
       "      <td>0</td>\n",
       "      <td>0</td>\n",
       "    </tr>\n",
       "    <tr>\n",
       "      <th>...</th>\n",
       "      <td>...</td>\n",
       "      <td>...</td>\n",
       "      <td>...</td>\n",
       "      <td>...</td>\n",
       "      <td>...</td>\n",
       "      <td>...</td>\n",
       "      <td>...</td>\n",
       "      <td>...</td>\n",
       "      <td>...</td>\n",
       "      <td>...</td>\n",
       "      <td>...</td>\n",
       "      <td>...</td>\n",
       "      <td>...</td>\n",
       "    </tr>\n",
       "    <tr>\n",
       "      <th>19995</th>\n",
       "      <td>19996</td>\n",
       "      <td>M</td>\n",
       "      <td>0</td>\n",
       "      <td>99824</td>\n",
       "      <td>20</td>\n",
       "      <td>4</td>\n",
       "      <td>58.0</td>\n",
       "      <td>8</td>\n",
       "      <td>19</td>\n",
       "      <td>0</td>\n",
       "      <td>0</td>\n",
       "      <td>1</td>\n",
       "      <td>0</td>\n",
       "    </tr>\n",
       "    <tr>\n",
       "      <th>19996</th>\n",
       "      <td>19997</td>\n",
       "      <td>M</td>\n",
       "      <td>0</td>\n",
       "      <td>99835</td>\n",
       "      <td>20</td>\n",
       "      <td>1</td>\n",
       "      <td>22.0</td>\n",
       "      <td>17</td>\n",
       "      <td>2</td>\n",
       "      <td>0</td>\n",
       "      <td>0</td>\n",
       "      <td>0</td>\n",
       "      <td>0</td>\n",
       "    </tr>\n",
       "    <tr>\n",
       "      <th>19997</th>\n",
       "      <td>19998</td>\n",
       "      <td>M</td>\n",
       "      <td>0</td>\n",
       "      <td>99835</td>\n",
       "      <td>20</td>\n",
       "      <td>1</td>\n",
       "      <td>29.5</td>\n",
       "      <td>12</td>\n",
       "      <td>14</td>\n",
       "      <td>0</td>\n",
       "      <td>0</td>\n",
       "      <td>0</td>\n",
       "      <td>0</td>\n",
       "    </tr>\n",
       "    <tr>\n",
       "      <th>19998</th>\n",
       "      <td>19999</td>\n",
       "      <td>M</td>\n",
       "      <td>0</td>\n",
       "      <td>99901</td>\n",
       "      <td>20</td>\n",
       "      <td>2</td>\n",
       "      <td>111.5</td>\n",
       "      <td>19</td>\n",
       "      <td>22</td>\n",
       "      <td>0</td>\n",
       "      <td>0</td>\n",
       "      <td>1</td>\n",
       "      <td>0</td>\n",
       "    </tr>\n",
       "    <tr>\n",
       "      <th>19999</th>\n",
       "      <td>20000</td>\n",
       "      <td>M</td>\n",
       "      <td>0</td>\n",
       "      <td>99901</td>\n",
       "      <td>20</td>\n",
       "      <td>1</td>\n",
       "      <td>56.0</td>\n",
       "      <td>31</td>\n",
       "      <td>34</td>\n",
       "      <td>0</td>\n",
       "      <td>0</td>\n",
       "      <td>1</td>\n",
       "      <td>0</td>\n",
       "    </tr>\n",
       "  </tbody>\n",
       "</table>\n",
       "<p>20000 rows × 13 columns</p>\n",
       "</div>"
      ],
      "text/plain": [
       "          id sex  bizflag    zip  zip_bins  numords  dollars  last  \\\n",
       "0          1   U        1  99999        20        1    129.5    11   \n",
       "1          2   U        1  99999        20        2     65.0     4   \n",
       "2          3   U        1  99999        20        1     24.5    13   \n",
       "3          4   U        1  99999        20        1     80.5     5   \n",
       "4          5   U        1  99999        20        1    111.0    14   \n",
       "...      ...  ..      ...    ...       ...      ...      ...   ...   \n",
       "19995  19996   M        0  99824        20        4     58.0     8   \n",
       "19996  19997   M        0  99835        20        1     22.0    17   \n",
       "19997  19998   M        0  99835        20        1     29.5    12   \n",
       "19998  19999   M        0  99901        20        2    111.5    19   \n",
       "19999  20000   M        0  99901        20        1     56.0    31   \n",
       "\n",
       "       sincepurch  version1  owntaxprod  upgraded  res1  \n",
       "0               1         0           0         0     0  \n",
       "1              14         0           0         0     0  \n",
       "2              36         1           0         0     0  \n",
       "3              19         1           0         0     0  \n",
       "4               7         0           0         0     0  \n",
       "...           ...       ...         ...       ...   ...  \n",
       "19995          19         0           0         1     0  \n",
       "19996           2         0           0         0     0  \n",
       "19997          14         0           0         0     0  \n",
       "19998          22         0           0         1     0  \n",
       "19999          34         0           0         1     0  \n",
       "\n",
       "[20000 rows x 13 columns]"
      ]
     },
     "execution_count": 3,
     "metadata": {},
     "output_type": "execute_result"
    }
   ],
   "source": [
    "data"
   ]
  },
  {
   "cell_type": "markdown",
   "id": "8d71f30f-448d-484f-ae04-b9ba17b1298a",
   "metadata": {},
   "source": [
    "---\n",
    "\n",
    "#### Question 1\n",
    "\n",
    "**Decide to which of the 20,000 individuals you would choose to mail wave two.**\n",
    "\n",
    "**Completely specify which individuals should receive the mailing.** \n",
    "\n",
    "1/3 of your grade on this assignment will be based on the profit achieved on your mailing by comparing your prediction with the actual findings from the second mailing (which I know because all consumers who did not respond in wave 1 were mailed in wave 2).\n",
    "\n",
    "For the purposes of this exercise, each mail piece costs $1.41, and the profit from each responder is $60. Thus, the response rate needed to break even is 2.35%. Please ignore any other number in the case that relates to profits and costs.\n",
    "\n",
    "Please note the following statement in the case (page 4): \"Usual practice would be to assume a 50 percent drop off in response from wave 1 to wave 2.\" For your analysis this means that when you decide whom to mail to in wave 2, you should assume that the response probabilities in wave 2 are only 50% of the response probabilities you predict based on wave 1 responses."
   ]
  },
  {
   "cell_type": "code",
   "execution_count": 4,
   "id": "1540cf38-6aff-45d4-951e-f7e19386d1be",
   "metadata": {},
   "outputs": [
    {
     "data": {
      "text/html": [
       "<div>\n",
       "<style scoped>\n",
       "    .dataframe tbody tr th:only-of-type {\n",
       "        vertical-align: middle;\n",
       "    }\n",
       "\n",
       "    .dataframe tbody tr th {\n",
       "        vertical-align: top;\n",
       "    }\n",
       "\n",
       "    .dataframe thead th {\n",
       "        text-align: right;\n",
       "    }\n",
       "</style>\n",
       "<table border=\"1\" class=\"dataframe\">\n",
       "  <thead>\n",
       "    <tr style=\"text-align: right;\">\n",
       "      <th></th>\n",
       "      <th>Name</th>\n",
       "      <th>Count</th>\n",
       "      <th>Frequency</th>\n",
       "    </tr>\n",
       "  </thead>\n",
       "  <tbody>\n",
       "    <tr>\n",
       "      <th>0</th>\n",
       "      <td>0</td>\n",
       "      <td>19039</td>\n",
       "      <td>0.95195</td>\n",
       "    </tr>\n",
       "    <tr>\n",
       "      <th>1</th>\n",
       "      <td>1</td>\n",
       "      <td>961</td>\n",
       "      <td>0.04805</td>\n",
       "    </tr>\n",
       "  </tbody>\n",
       "</table>\n",
       "</div>"
      ],
      "text/plain": [
       "   Name  Count  Frequency\n",
       "0     0  19039    0.95195\n",
       "1     1    961    0.04805"
      ]
     },
     "execution_count": 4,
     "metadata": {},
     "output_type": "execute_result"
    }
   ],
   "source": [
    "# Calculate total number of buyers\n",
    "\n",
    "mba263.tabulate(data['res1'])"
   ]
  },
  {
   "cell_type": "markdown",
   "id": "7144f400-9ade-47ca-a1ae-71a885859ff6",
   "metadata": {},
   "source": [
    "The response rate of wave 1 = **4.805%**\n",
    "\n",
    "The response rate of wave 2 = 4.805% * 50% = **2.4025%**"
   ]
  },
  {
   "cell_type": "code",
   "execution_count": 5,
   "id": "c098863d-26b4-411d-b3f8-a4b42a91e456",
   "metadata": {},
   "outputs": [
    {
     "data": {
      "text/html": [
       "<div>\n",
       "<style scoped>\n",
       "    .dataframe tbody tr th:only-of-type {\n",
       "        vertical-align: middle;\n",
       "    }\n",
       "\n",
       "    .dataframe tbody tr th {\n",
       "        vertical-align: top;\n",
       "    }\n",
       "\n",
       "    .dataframe thead th {\n",
       "        text-align: right;\n",
       "    }\n",
       "</style>\n",
       "<table border=\"1\" class=\"dataframe\">\n",
       "  <thead>\n",
       "    <tr style=\"text-align: right;\">\n",
       "      <th></th>\n",
       "      <th>id</th>\n",
       "      <th>sex</th>\n",
       "      <th>bizflag</th>\n",
       "      <th>zip</th>\n",
       "      <th>zip_bins</th>\n",
       "      <th>numords</th>\n",
       "      <th>dollars</th>\n",
       "      <th>last</th>\n",
       "      <th>sincepurch</th>\n",
       "      <th>version1</th>\n",
       "      <th>owntaxprod</th>\n",
       "      <th>upgraded</th>\n",
       "      <th>res1</th>\n",
       "      <th>dummy_male</th>\n",
       "      <th>dummy_female</th>\n",
       "      <th>dummy_both_genders</th>\n",
       "      <th>dummy_unknown_gender</th>\n",
       "    </tr>\n",
       "  </thead>\n",
       "  <tbody>\n",
       "    <tr>\n",
       "      <th>0</th>\n",
       "      <td>1</td>\n",
       "      <td>U</td>\n",
       "      <td>1</td>\n",
       "      <td>99999</td>\n",
       "      <td>20</td>\n",
       "      <td>1</td>\n",
       "      <td>129.5</td>\n",
       "      <td>11</td>\n",
       "      <td>1</td>\n",
       "      <td>0</td>\n",
       "      <td>0</td>\n",
       "      <td>0</td>\n",
       "      <td>0</td>\n",
       "      <td>0</td>\n",
       "      <td>0</td>\n",
       "      <td>0</td>\n",
       "      <td>1</td>\n",
       "    </tr>\n",
       "    <tr>\n",
       "      <th>1</th>\n",
       "      <td>2</td>\n",
       "      <td>U</td>\n",
       "      <td>1</td>\n",
       "      <td>99999</td>\n",
       "      <td>20</td>\n",
       "      <td>2</td>\n",
       "      <td>65.0</td>\n",
       "      <td>4</td>\n",
       "      <td>14</td>\n",
       "      <td>0</td>\n",
       "      <td>0</td>\n",
       "      <td>0</td>\n",
       "      <td>0</td>\n",
       "      <td>0</td>\n",
       "      <td>0</td>\n",
       "      <td>0</td>\n",
       "      <td>1</td>\n",
       "    </tr>\n",
       "    <tr>\n",
       "      <th>2</th>\n",
       "      <td>3</td>\n",
       "      <td>U</td>\n",
       "      <td>1</td>\n",
       "      <td>99999</td>\n",
       "      <td>20</td>\n",
       "      <td>1</td>\n",
       "      <td>24.5</td>\n",
       "      <td>13</td>\n",
       "      <td>36</td>\n",
       "      <td>1</td>\n",
       "      <td>0</td>\n",
       "      <td>0</td>\n",
       "      <td>0</td>\n",
       "      <td>0</td>\n",
       "      <td>0</td>\n",
       "      <td>0</td>\n",
       "      <td>1</td>\n",
       "    </tr>\n",
       "    <tr>\n",
       "      <th>3</th>\n",
       "      <td>4</td>\n",
       "      <td>U</td>\n",
       "      <td>1</td>\n",
       "      <td>99999</td>\n",
       "      <td>20</td>\n",
       "      <td>1</td>\n",
       "      <td>80.5</td>\n",
       "      <td>5</td>\n",
       "      <td>19</td>\n",
       "      <td>1</td>\n",
       "      <td>0</td>\n",
       "      <td>0</td>\n",
       "      <td>0</td>\n",
       "      <td>0</td>\n",
       "      <td>0</td>\n",
       "      <td>0</td>\n",
       "      <td>1</td>\n",
       "    </tr>\n",
       "    <tr>\n",
       "      <th>4</th>\n",
       "      <td>5</td>\n",
       "      <td>U</td>\n",
       "      <td>1</td>\n",
       "      <td>99999</td>\n",
       "      <td>20</td>\n",
       "      <td>1</td>\n",
       "      <td>111.0</td>\n",
       "      <td>14</td>\n",
       "      <td>7</td>\n",
       "      <td>0</td>\n",
       "      <td>0</td>\n",
       "      <td>0</td>\n",
       "      <td>0</td>\n",
       "      <td>0</td>\n",
       "      <td>0</td>\n",
       "      <td>0</td>\n",
       "      <td>1</td>\n",
       "    </tr>\n",
       "  </tbody>\n",
       "</table>\n",
       "</div>"
      ],
      "text/plain": [
       "   id sex  bizflag    zip  zip_bins  numords  dollars  last  sincepurch  \\\n",
       "0   1   U        1  99999        20        1    129.5    11           1   \n",
       "1   2   U        1  99999        20        2     65.0     4          14   \n",
       "2   3   U        1  99999        20        1     24.5    13          36   \n",
       "3   4   U        1  99999        20        1     80.5     5          19   \n",
       "4   5   U        1  99999        20        1    111.0    14           7   \n",
       "\n",
       "   version1  owntaxprod  upgraded  res1  dummy_male  dummy_female  \\\n",
       "0         0           0         0     0           0             0   \n",
       "1         0           0         0     0           0             0   \n",
       "2         1           0         0     0           0             0   \n",
       "3         1           0         0     0           0             0   \n",
       "4         0           0         0     0           0             0   \n",
       "\n",
       "   dummy_both_genders  dummy_unknown_gender  \n",
       "0                   0                     1  \n",
       "1                   0                     1  \n",
       "2                   0                     1  \n",
       "3                   0                     1  \n",
       "4                   0                     1  "
      ]
     },
     "execution_count": 5,
     "metadata": {},
     "output_type": "execute_result"
    }
   ],
   "source": [
    "# Create dummy variables for gender\n",
    "data['dummy_male'] = 1 * (data['sex']=='M')\n",
    "data['dummy_female'] = 1 * (data['sex']=='F')\n",
    "data['dummy_both_genders'] = 1 * (data['sex']=='B')\n",
    "data['dummy_unknown_gender'] = 1 * (data['sex']=='U')\n",
    "\n",
    "# Review to make sure that the dummy variables for gender are updated.\n",
    "data.head()"
   ]
  },
  {
   "cell_type": "code",
   "execution_count": 6,
   "id": "d901e5e5-eb9a-4641-bf5b-283b143ba444",
   "metadata": {},
   "outputs": [
    {
     "name": "stdout",
     "output_type": "stream",
     "text": [
      "Optimization terminated successfully.\n",
      "         Current function value: 0.178707\n",
      "         Iterations 8\n"
     ]
    }
   ],
   "source": [
    "# Estimate logit for whether customer's current Quickbooks is version 1 or not.\n",
    "\n",
    "res = mba263.logit(data['res1'],data[['bizflag','zip_bins','numords',\n",
    "                                      'dollars','last','sincepurch','version1','owntaxprod','upgraded',\n",
    "                                      'dummy_male','dummy_female','dummy_both_genders','dummy_unknown_gender']])"
   ]
  },
  {
   "cell_type": "code",
   "execution_count": 7,
   "id": "e4925a08-883b-4d3a-827d-5d6805508b66",
   "metadata": {},
   "outputs": [],
   "source": [
    "data['predicted_logit'] = res.predict()"
   ]
  },
  {
   "cell_type": "code",
   "execution_count": 8,
   "id": "ef5bb7fb-fdd3-487d-b59e-1fc8af1831fc",
   "metadata": {},
   "outputs": [
    {
     "name": "stdout",
     "output_type": "stream",
     "text": [
      "Total to mail by using logit method is 13233 customers\n"
     ]
    }
   ],
   "source": [
    "# Number of customers who have predicted response rate greater than\n",
    "# the break-even point and does not respond to wave 1\n",
    "\n",
    "total_to_mail_logit = sum((data['predicted_logit']>=0.0235)&(data['res1']==0))\n",
    "\n",
    "print(f\"Total to mail by using logit method is {total_to_mail_logit} customers\")"
   ]
  },
  {
   "cell_type": "code",
   "execution_count": 9,
   "id": "12f2f4de-4d4c-4391-a948-cf5d2c68d92c",
   "metadata": {},
   "outputs": [
    {
     "name": "stdout",
     "output_type": "stream",
     "text": [
      "Profit for logit method = $416.84\n"
     ]
    }
   ],
   "source": [
    "# Calculate profit\n",
    "\n",
    "profit_each_responder = 60\n",
    "mailing_cost = 1.41\n",
    "second_wave_response_rate = 0.024025\n",
    "\n",
    "profit_logit = (total_to_mail_logit*second_wave_response_rate*profit_each_responder-total_to_mail_logit*mailing_cost)\n",
    "print(f\"Profit for logit method = ${profit_logit:0.2f}\")"
   ]
  },
  {
   "cell_type": "markdown",
   "id": "54d6f5c0-e632-4b5c-a8a5-6723e414c5ae",
   "metadata": {},
   "source": [
    "---\n",
    "\n",
    "#### Neural Network"
   ]
  },
  {
   "cell_type": "code",
   "execution_count": 10,
   "id": "85ea29ff-3c3c-48e9-bdf9-8c9fa869a374",
   "metadata": {},
   "outputs": [],
   "source": [
    "res_nn = mba263.neural_network(data['res1'],data[['bizflag','zip_bins','numords',\n",
    "                                      'dollars','last','sincepurch','version1','owntaxprod','upgraded',\n",
    "                                      'dummy_male','dummy_female','dummy_both_genders','dummy_unknown_gender']])"
   ]
  },
  {
   "cell_type": "code",
   "execution_count": 11,
   "id": "23f1e997-8958-425c-abbb-5c59e87d0d96",
   "metadata": {},
   "outputs": [],
   "source": [
    "data['predicted_nn'] = res_nn.predict(data[['bizflag','zip_bins','numords',\n",
    "                                      'dollars','last','sincepurch','version1','owntaxprod','upgraded',\n",
    "                                      'dummy_male','dummy_female','dummy_both_genders','dummy_unknown_gender']])"
   ]
  },
  {
   "cell_type": "code",
   "execution_count": 12,
   "id": "d6f00639-17b8-4c04-882a-8f0cce805259",
   "metadata": {},
   "outputs": [
    {
     "name": "stdout",
     "output_type": "stream",
     "text": [
      "Total to mail by using neural network method is 11303 customers\n"
     ]
    }
   ],
   "source": [
    "# Number of customers who have predicted response rate greater than\n",
    "# the break-even point and does not respond to wave 1\n",
    "\n",
    "total_to_mail_nn = sum((data['predicted_nn']>=0.0235)&(data['res1']==0))\n",
    "\n",
    "print(f\"Total to mail by using neural network method is {total_to_mail_nn} customers\")"
   ]
  },
  {
   "cell_type": "code",
   "execution_count": 13,
   "id": "95659ee8-870d-446f-9494-1d937d1ee863",
   "metadata": {},
   "outputs": [
    {
     "name": "stdout",
     "output_type": "stream",
     "text": [
      "Profit for neural network method = $356.04\n"
     ]
    }
   ],
   "source": [
    "# Calculate profit\n",
    "\n",
    "profit_each_responder = 60\n",
    "mailing_cost = 1.41\n",
    "second_wave_response_rate = 0.024025\n",
    "\n",
    "profit_nn = (total_to_mail_nn*second_wave_response_rate*profit_each_responder-total_to_mail_nn*mailing_cost)\n",
    "print(f\"Profit for neural network method = ${profit_nn:0.2f}\")"
   ]
  },
  {
   "cell_type": "markdown",
   "id": "015f836d-ea13-4053-8581-52b3dd7c1466",
   "metadata": {},
   "source": [
    "---\n",
    "\n",
    "#### RFM"
   ]
  },
  {
   "cell_type": "code",
   "execution_count": 20,
   "id": "f8363610-4afd-4222-9ca0-7cb179b2efc5",
   "metadata": {},
   "outputs": [],
   "source": [
    "data['rfm']=mba263.rfm_sq(data[['last','numords','dollars']],5)"
   ]
  },
  {
   "cell_type": "code",
   "execution_count": 21,
   "id": "fa018b3d-c62e-4d47-ada8-bc53919375be",
   "metadata": {},
   "outputs": [],
   "source": [
    "data['predicted_rfm']=mba263.get_means(data['res1'],data['rfm'])"
   ]
  },
  {
   "cell_type": "code",
   "execution_count": 22,
   "id": "57d16d8a-dced-4c02-9cad-64abf9d3655d",
   "metadata": {},
   "outputs": [
    {
     "name": "stdout",
     "output_type": "stream",
     "text": [
      "Total to mail by using RFM method is 14695 customers\n"
     ]
    }
   ],
   "source": [
    "# Number of customers who have predicted response rate greater than\n",
    "# the break-even point and does not respond to wave 1\n",
    "\n",
    "total_to_mail_rfm = sum((data['predicted_rfm']>=0.0235)&(data['res1']==0))\n",
    "\n",
    "print(f\"Total to mail by using RFM method is {total_to_mail_rfm} customers\")"
   ]
  },
  {
   "cell_type": "code",
   "execution_count": 23,
   "id": "2f80202f-8f9e-4065-a6e5-f94036191099",
   "metadata": {},
   "outputs": [
    {
     "name": "stdout",
     "output_type": "stream",
     "text": [
      "Profit for RFM method = $462.89\n"
     ]
    }
   ],
   "source": [
    "# Calculate profit\n",
    "\n",
    "profit_each_responder = 60\n",
    "mailing_cost = 1.41\n",
    "second_wave_response_rate = 0.024025\n",
    "\n",
    "profit_rfm = (total_to_mail_rfm*second_wave_response_rate*profit_each_responder-total_to_mail_rfm*mailing_cost)\n",
    "print(f\"Profit for RFM method = ${profit_rfm:0.2f}\")"
   ]
  },
  {
   "cell_type": "markdown",
   "id": "ccd110c3-79b8-47c6-afd6-67fb0c25930f",
   "metadata": {},
   "source": [
    "---\n",
    "\n",
    "Graph Combination for **Gains**"
   ]
  },
  {
   "cell_type": "code",
   "execution_count": 24,
   "id": "3b6e934c-29d5-4bf2-ac95-eddfb60e353f",
   "metadata": {},
   "outputs": [],
   "source": [
    "# Gains for Logit\n",
    "gains1=mba263.gain(data['res1'],data['predicted_logit'],bins=30)\n",
    "\n",
    "# Gains for Neural Network\n",
    "gains_nn=mba263.gain(data['res1'],data['predicted_nn'],30)\n",
    "\n",
    "# Gains for RFM\n",
    "gains_rfm=mba263.gain(data['res1'],data['predicted_rfm'],30)"
   ]
  },
  {
   "cell_type": "code",
   "execution_count": 25,
   "id": "2cb0ceb1-5db3-41af-90c3-9e172d1203bb",
   "metadata": {},
   "outputs": [
    {
     "data": {
      "text/plain": [
       "[<matplotlib.lines.Line2D at 0x7fa0971ab410>]"
      ]
     },
     "execution_count": 25,
     "metadata": {},
     "output_type": "execute_result"
    },
    {
     "data": {
      "image/png": "[encoded data removed]",
      "text/plain": [
       "<Figure size 432x288 with 1 Axes>"
      ]
     },
     "metadata": {
      "needs_background": "light"
     },
     "output_type": "display_data"
    }
   ],
   "source": [
    "# Plot all the graphs for Gains\n",
    "plt.plot(gains1,'b') ## Logit - Blue\n",
    "plt.plot(gains_nn,'g') ## Neural Network - Green\n",
    "plt.plot(gains_rfm,'m') ## RFM - Magenta\n",
    "plt.plot([0,30],[0,1],'r')"
   ]
  },
  {
   "cell_type": "code",
   "execution_count": null,
   "id": "f8135c6f-0b7d-4bb0-b594-3173b57a38d2",
   "metadata": {},
   "outputs": [],
   "source": []
  }
 ],
 "metadata": {
  "kernelspec": {
   "display_name": "Python 3 (ipykernel)",
   "language": "python",
   "name": "python3"
  },
  "language_info": {
   "codemirror_mode": {
    "name": "ipython",
    "version": 3
   },
   "file_extension": ".py",
   "mimetype": "text/x-python",
   "name": "python",
   "nbconvert_exporter": "python",
   "pygments_lexer": "ipython3",
   "version": "3.7.11"
  }
 },
 "nbformat": 4,
 "nbformat_minor": 5
}
